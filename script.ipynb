{
 "cells": [
  {
   "cell_type": "markdown",
   "metadata": {},
   "source": [
    "# polarsチュートリアル\n",
    "ここでは、rustで書かれた、高速なデータフレームライブラリpolarsの基本的な操作を紹介します。\n",
    "今回はサンプルデータとして、カリフォルニア大学アーバイン校が配布しているワインの品質データを扱います。\n",
    "下記URLから、事前にデータをダウンロードしておいてください。\n",
    "https://www.statlab.co.jp/seminar/winequality-red2.csv\n",
    "\n",
    "\n",
    "## インストール"
   ]
  },
  {
   "cell_type": "markdown",
   "metadata": {},
   "source": [
    "```powershell\n",
    "pip install polars\n",
    "```"
   ]
  },
  {
   "cell_type": "markdown",
   "metadata": {},
   "source": [
    "```"
   ]
  },
  {
   "cell_type": "code",
   "execution_count": 115,
   "metadata": {},
   "outputs": [],
   "source": [
    "import polars as pl"
   ]
  },
  {
   "cell_type": "markdown",
   "metadata": {},
   "source": [
    "## データ読み込み書き込み\n",
    "csvデータの読み書きはpandasと同じ感覚で,read_csvで読み込み、write_csvで書き込みができます。"
   ]
  },
  {
   "cell_type": "code",
   "execution_count": 116,
   "metadata": {},
   "outputs": [],
   "source": [
    "df = pl.read_csv(\n",
    "    \"./winequality-red2.csv\",\n",
    "    dtypes={\"free_sulfur_dioxide\": pl.Float64, \"total_sulfur_dioxide\": pl.Float64},\n",
    ")"
   ]
  },
  {
   "cell_type": "markdown",
   "metadata": {},
   "source": [
    "上記の例では、一部のカラムがはint64型として読み込めない形式だったため、明示的にfloat64型として読み込むように指定しています。"
   ]
  },
  {
   "cell_type": "markdown",
   "metadata": {},
   "source": [
    "## データ確認"
   ]
  },
  {
   "cell_type": "markdown",
   "metadata": {},
   "source": [
    "データの情報を確認するには、データフレームをそのまま出力してもいいですし、pandasと同様、基本統計量をdescribe()で確認することもできます。"
   ]
  },
  {
   "cell_type": "code",
   "execution_count": 117,
   "metadata": {},
   "outputs": [
    {
     "data": {
      "text/html": [
       "<div><style>\n",
       ".dataframe > thead > tr,\n",
       ".dataframe > tbody > tr {\n",
       "  text-align: right;\n",
       "  white-space: pre-wrap;\n",
       "}\n",
       "</style>\n",
       "<small>shape: (1_599, 12)</small><table border=\"1\" class=\"dataframe\"><thead><tr><th>fixed_acidity</th><th>volatile_acidity</th><th>citric_acid</th><th>residual_sugar</th><th>chlorides</th><th>free_sulfur_dioxide</th><th>total_sulfur_dioxide</th><th>density</th><th>ph</th><th>sulphates</th><th>alcohol</th><th>quality</th></tr><tr><td>f64</td><td>f64</td><td>f64</td><td>f64</td><td>f64</td><td>f64</td><td>f64</td><td>f64</td><td>f64</td><td>f64</td><td>f64</td><td>i64</td></tr></thead><tbody><tr><td>7.4</td><td>0.7</td><td>0.0</td><td>1.9</td><td>0.076</td><td>11.0</td><td>34.0</td><td>0.9978</td><td>3.51</td><td>0.56</td><td>9.4</td><td>5</td></tr><tr><td>7.8</td><td>0.88</td><td>0.0</td><td>2.6</td><td>0.098</td><td>25.0</td><td>67.0</td><td>0.9968</td><td>3.2</td><td>0.68</td><td>9.8</td><td>5</td></tr><tr><td>7.8</td><td>0.76</td><td>0.04</td><td>2.3</td><td>0.092</td><td>15.0</td><td>54.0</td><td>0.997</td><td>3.26</td><td>0.65</td><td>9.8</td><td>5</td></tr><tr><td>11.2</td><td>0.28</td><td>0.56</td><td>1.9</td><td>0.075</td><td>17.0</td><td>60.0</td><td>0.998</td><td>3.16</td><td>0.58</td><td>9.8</td><td>6</td></tr><tr><td>7.4</td><td>0.7</td><td>0.0</td><td>1.9</td><td>0.076</td><td>11.0</td><td>34.0</td><td>0.9978</td><td>3.51</td><td>0.56</td><td>9.4</td><td>5</td></tr><tr><td>&hellip;</td><td>&hellip;</td><td>&hellip;</td><td>&hellip;</td><td>&hellip;</td><td>&hellip;</td><td>&hellip;</td><td>&hellip;</td><td>&hellip;</td><td>&hellip;</td><td>&hellip;</td><td>&hellip;</td></tr><tr><td>6.2</td><td>0.6</td><td>0.08</td><td>2.0</td><td>0.09</td><td>32.0</td><td>44.0</td><td>0.9949</td><td>3.45</td><td>0.58</td><td>10.5</td><td>5</td></tr><tr><td>5.9</td><td>0.55</td><td>0.1</td><td>2.2</td><td>0.062</td><td>39.0</td><td>51.0</td><td>0.99512</td><td>3.52</td><td>0.76</td><td>11.2</td><td>6</td></tr><tr><td>6.3</td><td>0.51</td><td>0.13</td><td>2.3</td><td>0.076</td><td>29.0</td><td>40.0</td><td>0.99574</td><td>3.42</td><td>0.75</td><td>11.0</td><td>6</td></tr><tr><td>5.9</td><td>0.645</td><td>0.12</td><td>2.0</td><td>0.075</td><td>32.0</td><td>44.0</td><td>0.99547</td><td>3.57</td><td>0.71</td><td>10.2</td><td>5</td></tr><tr><td>6.0</td><td>0.31</td><td>0.47</td><td>3.6</td><td>0.067</td><td>18.0</td><td>42.0</td><td>0.99549</td><td>3.39</td><td>0.66</td><td>11.0</td><td>6</td></tr></tbody></table></div>"
      ],
      "text/plain": [
       "shape: (1_599, 12)\n",
       "┌─────────────┬─────────────┬─────────────┬─────────────┬───┬──────┬───────────┬─────────┬─────────┐\n",
       "│ fixed_acidi ┆ volatile_ac ┆ citric_acid ┆ residual_su ┆ … ┆ ph   ┆ sulphates ┆ alcohol ┆ quality │\n",
       "│ ty          ┆ idity       ┆ ---         ┆ gar         ┆   ┆ ---  ┆ ---       ┆ ---     ┆ ---     │\n",
       "│ ---         ┆ ---         ┆ f64         ┆ ---         ┆   ┆ f64  ┆ f64       ┆ f64     ┆ i64     │\n",
       "│ f64         ┆ f64         ┆             ┆ f64         ┆   ┆      ┆           ┆         ┆         │\n",
       "╞═════════════╪═════════════╪═════════════╪═════════════╪═══╪══════╪═══════════╪═════════╪═════════╡\n",
       "│ 7.4         ┆ 0.7         ┆ 0.0         ┆ 1.9         ┆ … ┆ 3.51 ┆ 0.56      ┆ 9.4     ┆ 5       │\n",
       "│ 7.8         ┆ 0.88        ┆ 0.0         ┆ 2.6         ┆ … ┆ 3.2  ┆ 0.68      ┆ 9.8     ┆ 5       │\n",
       "│ 7.8         ┆ 0.76        ┆ 0.04        ┆ 2.3         ┆ … ┆ 3.26 ┆ 0.65      ┆ 9.8     ┆ 5       │\n",
       "│ 11.2        ┆ 0.28        ┆ 0.56        ┆ 1.9         ┆ … ┆ 3.16 ┆ 0.58      ┆ 9.8     ┆ 6       │\n",
       "│ 7.4         ┆ 0.7         ┆ 0.0         ┆ 1.9         ┆ … ┆ 3.51 ┆ 0.56      ┆ 9.4     ┆ 5       │\n",
       "│ …           ┆ …           ┆ …           ┆ …           ┆ … ┆ …    ┆ …         ┆ …       ┆ …       │\n",
       "│ 6.2         ┆ 0.6         ┆ 0.08        ┆ 2.0         ┆ … ┆ 3.45 ┆ 0.58      ┆ 10.5    ┆ 5       │\n",
       "│ 5.9         ┆ 0.55        ┆ 0.1         ┆ 2.2         ┆ … ┆ 3.52 ┆ 0.76      ┆ 11.2    ┆ 6       │\n",
       "│ 6.3         ┆ 0.51        ┆ 0.13        ┆ 2.3         ┆ … ┆ 3.42 ┆ 0.75      ┆ 11.0    ┆ 6       │\n",
       "│ 5.9         ┆ 0.645       ┆ 0.12        ┆ 2.0         ┆ … ┆ 3.57 ┆ 0.71      ┆ 10.2    ┆ 5       │\n",
       "│ 6.0         ┆ 0.31        ┆ 0.47        ┆ 3.6         ┆ … ┆ 3.39 ┆ 0.66      ┆ 11.0    ┆ 6       │\n",
       "└─────────────┴─────────────┴─────────────┴─────────────┴───┴──────┴───────────┴─────────┴─────────┘"
      ]
     },
     "execution_count": 117,
     "metadata": {},
     "output_type": "execute_result"
    }
   ],
   "source": [
    "df"
   ]
  },
  {
   "cell_type": "code",
   "execution_count": 118,
   "metadata": {},
   "outputs": [
    {
     "data": {
      "text/html": [
       "<div><style>\n",
       ".dataframe > thead > tr,\n",
       ".dataframe > tbody > tr {\n",
       "  text-align: right;\n",
       "  white-space: pre-wrap;\n",
       "}\n",
       "</style>\n",
       "<small>shape: (9, 13)</small><table border=\"1\" class=\"dataframe\"><thead><tr><th>statistic</th><th>fixed_acidity</th><th>volatile_acidity</th><th>citric_acid</th><th>residual_sugar</th><th>chlorides</th><th>free_sulfur_dioxide</th><th>total_sulfur_dioxide</th><th>density</th><th>ph</th><th>sulphates</th><th>alcohol</th><th>quality</th></tr><tr><td>str</td><td>f64</td><td>f64</td><td>f64</td><td>f64</td><td>f64</td><td>f64</td><td>f64</td><td>f64</td><td>f64</td><td>f64</td><td>f64</td><td>f64</td></tr></thead><tbody><tr><td>&quot;count&quot;</td><td>1599.0</td><td>1599.0</td><td>1599.0</td><td>1599.0</td><td>1599.0</td><td>1599.0</td><td>1599.0</td><td>1599.0</td><td>1599.0</td><td>1599.0</td><td>1599.0</td><td>1599.0</td></tr><tr><td>&quot;null_count&quot;</td><td>0.0</td><td>0.0</td><td>0.0</td><td>0.0</td><td>0.0</td><td>0.0</td><td>0.0</td><td>0.0</td><td>0.0</td><td>0.0</td><td>0.0</td><td>0.0</td></tr><tr><td>&quot;mean&quot;</td><td>8.319637</td><td>0.527821</td><td>0.270976</td><td>2.538806</td><td>0.087467</td><td>15.874922</td><td>46.467792</td><td>0.996747</td><td>3.311113</td><td>0.658149</td><td>10.422983</td><td>5.636023</td></tr><tr><td>&quot;std&quot;</td><td>1.741096</td><td>0.17906</td><td>0.194801</td><td>1.409928</td><td>0.047065</td><td>10.460157</td><td>32.895324</td><td>0.001887</td><td>0.154386</td><td>0.169507</td><td>1.065668</td><td>0.807569</td></tr><tr><td>&quot;min&quot;</td><td>4.6</td><td>0.12</td><td>0.0</td><td>0.9</td><td>0.012</td><td>1.0</td><td>6.0</td><td>0.99007</td><td>2.74</td><td>0.33</td><td>8.4</td><td>3.0</td></tr><tr><td>&quot;25%&quot;</td><td>7.1</td><td>0.39</td><td>0.09</td><td>1.9</td><td>0.07</td><td>7.0</td><td>22.0</td><td>0.9956</td><td>3.21</td><td>0.55</td><td>9.5</td><td>5.0</td></tr><tr><td>&quot;50%&quot;</td><td>7.9</td><td>0.52</td><td>0.26</td><td>2.2</td><td>0.079</td><td>14.0</td><td>38.0</td><td>0.99675</td><td>3.31</td><td>0.62</td><td>10.2</td><td>6.0</td></tr><tr><td>&quot;75%&quot;</td><td>9.2</td><td>0.64</td><td>0.42</td><td>2.6</td><td>0.09</td><td>21.0</td><td>62.0</td><td>0.99784</td><td>3.4</td><td>0.73</td><td>11.1</td><td>6.0</td></tr><tr><td>&quot;max&quot;</td><td>15.9</td><td>1.58</td><td>1.0</td><td>15.5</td><td>0.611</td><td>72.0</td><td>289.0</td><td>1.00369</td><td>4.01</td><td>2.0</td><td>14.9</td><td>8.0</td></tr></tbody></table></div>"
      ],
      "text/plain": [
       "shape: (9, 13)\n",
       "┌────────────┬───────────┬───────────┬───────────┬───┬──────────┬───────────┬───────────┬──────────┐\n",
       "│ statistic  ┆ fixed_aci ┆ volatile_ ┆ citric_ac ┆ … ┆ ph       ┆ sulphates ┆ alcohol   ┆ quality  │\n",
       "│ ---        ┆ dity      ┆ acidity   ┆ id        ┆   ┆ ---      ┆ ---       ┆ ---       ┆ ---      │\n",
       "│ str        ┆ ---       ┆ ---       ┆ ---       ┆   ┆ f64      ┆ f64       ┆ f64       ┆ f64      │\n",
       "│            ┆ f64       ┆ f64       ┆ f64       ┆   ┆          ┆           ┆           ┆          │\n",
       "╞════════════╪═══════════╪═══════════╪═══════════╪═══╪══════════╪═══════════╪═══════════╪══════════╡\n",
       "│ count      ┆ 1599.0    ┆ 1599.0    ┆ 1599.0    ┆ … ┆ 1599.0   ┆ 1599.0    ┆ 1599.0    ┆ 1599.0   │\n",
       "│ null_count ┆ 0.0       ┆ 0.0       ┆ 0.0       ┆ … ┆ 0.0      ┆ 0.0       ┆ 0.0       ┆ 0.0      │\n",
       "│ mean       ┆ 8.319637  ┆ 0.527821  ┆ 0.270976  ┆ … ┆ 3.311113 ┆ 0.658149  ┆ 10.422983 ┆ 5.636023 │\n",
       "│ std        ┆ 1.741096  ┆ 0.17906   ┆ 0.194801  ┆ … ┆ 0.154386 ┆ 0.169507  ┆ 1.065668  ┆ 0.807569 │\n",
       "│ min        ┆ 4.6       ┆ 0.12      ┆ 0.0       ┆ … ┆ 2.74     ┆ 0.33      ┆ 8.4       ┆ 3.0      │\n",
       "│ 25%        ┆ 7.1       ┆ 0.39      ┆ 0.09      ┆ … ┆ 3.21     ┆ 0.55      ┆ 9.5       ┆ 5.0      │\n",
       "│ 50%        ┆ 7.9       ┆ 0.52      ┆ 0.26      ┆ … ┆ 3.31     ┆ 0.62      ┆ 10.2      ┆ 6.0      │\n",
       "│ 75%        ┆ 9.2       ┆ 0.64      ┆ 0.42      ┆ … ┆ 3.4      ┆ 0.73      ┆ 11.1      ┆ 6.0      │\n",
       "│ max        ┆ 15.9      ┆ 1.58      ┆ 1.0       ┆ … ┆ 4.01     ┆ 2.0       ┆ 14.9      ┆ 8.0      │\n",
       "└────────────┴───────────┴───────────┴───────────┴───┴──────────┴───────────┴───────────┴──────────┘"
      ]
     },
     "execution_count": 118,
     "metadata": {},
     "output_type": "execute_result"
    }
   ],
   "source": [
    "df.describe()"
   ]
  },
  {
   "cell_type": "markdown",
   "metadata": {},
   "source": [
    "## カラム削除\n",
    "polarsではカラムを削除するために、dropメソッドを使用します。\n",
    "例えば、上記データの`ph`カラムを削除したい場合は以下のように記述します。"
   ]
  },
  {
   "cell_type": "code",
   "execution_count": 119,
   "metadata": {},
   "outputs": [
    {
     "data": {
      "text/html": [
       "<div><style>\n",
       ".dataframe > thead > tr,\n",
       ".dataframe > tbody > tr {\n",
       "  text-align: right;\n",
       "  white-space: pre-wrap;\n",
       "}\n",
       "</style>\n",
       "<small>shape: (1_599, 11)</small><table border=\"1\" class=\"dataframe\"><thead><tr><th>fixed_acidity</th><th>volatile_acidity</th><th>citric_acid</th><th>residual_sugar</th><th>chlorides</th><th>free_sulfur_dioxide</th><th>total_sulfur_dioxide</th><th>density</th><th>sulphates</th><th>alcohol</th><th>quality</th></tr><tr><td>f64</td><td>f64</td><td>f64</td><td>f64</td><td>f64</td><td>f64</td><td>f64</td><td>f64</td><td>f64</td><td>f64</td><td>i64</td></tr></thead><tbody><tr><td>7.4</td><td>0.7</td><td>0.0</td><td>1.9</td><td>0.076</td><td>11.0</td><td>34.0</td><td>0.9978</td><td>0.56</td><td>9.4</td><td>5</td></tr><tr><td>7.8</td><td>0.88</td><td>0.0</td><td>2.6</td><td>0.098</td><td>25.0</td><td>67.0</td><td>0.9968</td><td>0.68</td><td>9.8</td><td>5</td></tr><tr><td>7.8</td><td>0.76</td><td>0.04</td><td>2.3</td><td>0.092</td><td>15.0</td><td>54.0</td><td>0.997</td><td>0.65</td><td>9.8</td><td>5</td></tr><tr><td>11.2</td><td>0.28</td><td>0.56</td><td>1.9</td><td>0.075</td><td>17.0</td><td>60.0</td><td>0.998</td><td>0.58</td><td>9.8</td><td>6</td></tr><tr><td>7.4</td><td>0.7</td><td>0.0</td><td>1.9</td><td>0.076</td><td>11.0</td><td>34.0</td><td>0.9978</td><td>0.56</td><td>9.4</td><td>5</td></tr><tr><td>&hellip;</td><td>&hellip;</td><td>&hellip;</td><td>&hellip;</td><td>&hellip;</td><td>&hellip;</td><td>&hellip;</td><td>&hellip;</td><td>&hellip;</td><td>&hellip;</td><td>&hellip;</td></tr><tr><td>6.2</td><td>0.6</td><td>0.08</td><td>2.0</td><td>0.09</td><td>32.0</td><td>44.0</td><td>0.9949</td><td>0.58</td><td>10.5</td><td>5</td></tr><tr><td>5.9</td><td>0.55</td><td>0.1</td><td>2.2</td><td>0.062</td><td>39.0</td><td>51.0</td><td>0.99512</td><td>0.76</td><td>11.2</td><td>6</td></tr><tr><td>6.3</td><td>0.51</td><td>0.13</td><td>2.3</td><td>0.076</td><td>29.0</td><td>40.0</td><td>0.99574</td><td>0.75</td><td>11.0</td><td>6</td></tr><tr><td>5.9</td><td>0.645</td><td>0.12</td><td>2.0</td><td>0.075</td><td>32.0</td><td>44.0</td><td>0.99547</td><td>0.71</td><td>10.2</td><td>5</td></tr><tr><td>6.0</td><td>0.31</td><td>0.47</td><td>3.6</td><td>0.067</td><td>18.0</td><td>42.0</td><td>0.99549</td><td>0.66</td><td>11.0</td><td>6</td></tr></tbody></table></div>"
      ],
      "text/plain": [
       "shape: (1_599, 11)\n",
       "┌─────────────┬────────────┬────────────┬────────────┬───┬─────────┬───────────┬─────────┬─────────┐\n",
       "│ fixed_acidi ┆ volatile_a ┆ citric_aci ┆ residual_s ┆ … ┆ density ┆ sulphates ┆ alcohol ┆ quality │\n",
       "│ ty          ┆ cidity     ┆ d          ┆ ugar       ┆   ┆ ---     ┆ ---       ┆ ---     ┆ ---     │\n",
       "│ ---         ┆ ---        ┆ ---        ┆ ---        ┆   ┆ f64     ┆ f64       ┆ f64     ┆ i64     │\n",
       "│ f64         ┆ f64        ┆ f64        ┆ f64        ┆   ┆         ┆           ┆         ┆         │\n",
       "╞═════════════╪════════════╪════════════╪════════════╪═══╪═════════╪═══════════╪═════════╪═════════╡\n",
       "│ 7.4         ┆ 0.7        ┆ 0.0        ┆ 1.9        ┆ … ┆ 0.9978  ┆ 0.56      ┆ 9.4     ┆ 5       │\n",
       "│ 7.8         ┆ 0.88       ┆ 0.0        ┆ 2.6        ┆ … ┆ 0.9968  ┆ 0.68      ┆ 9.8     ┆ 5       │\n",
       "│ 7.8         ┆ 0.76       ┆ 0.04       ┆ 2.3        ┆ … ┆ 0.997   ┆ 0.65      ┆ 9.8     ┆ 5       │\n",
       "│ 11.2        ┆ 0.28       ┆ 0.56       ┆ 1.9        ┆ … ┆ 0.998   ┆ 0.58      ┆ 9.8     ┆ 6       │\n",
       "│ 7.4         ┆ 0.7        ┆ 0.0        ┆ 1.9        ┆ … ┆ 0.9978  ┆ 0.56      ┆ 9.4     ┆ 5       │\n",
       "│ …           ┆ …          ┆ …          ┆ …          ┆ … ┆ …       ┆ …         ┆ …       ┆ …       │\n",
       "│ 6.2         ┆ 0.6        ┆ 0.08       ┆ 2.0        ┆ … ┆ 0.9949  ┆ 0.58      ┆ 10.5    ┆ 5       │\n",
       "│ 5.9         ┆ 0.55       ┆ 0.1        ┆ 2.2        ┆ … ┆ 0.99512 ┆ 0.76      ┆ 11.2    ┆ 6       │\n",
       "│ 6.3         ┆ 0.51       ┆ 0.13       ┆ 2.3        ┆ … ┆ 0.99574 ┆ 0.75      ┆ 11.0    ┆ 6       │\n",
       "│ 5.9         ┆ 0.645      ┆ 0.12       ┆ 2.0        ┆ … ┆ 0.99547 ┆ 0.71      ┆ 10.2    ┆ 5       │\n",
       "│ 6.0         ┆ 0.31       ┆ 0.47       ┆ 3.6        ┆ … ┆ 0.99549 ┆ 0.66      ┆ 11.0    ┆ 6       │\n",
       "└─────────────┴────────────┴────────────┴────────────┴───┴─────────┴───────────┴─────────┴─────────┘"
      ]
     },
     "execution_count": 119,
     "metadata": {},
     "output_type": "execute_result"
    }
   ],
   "source": [
    "df.drop([\"ph\"])"
   ]
  },
  {
   "cell_type": "markdown",
   "metadata": {},
   "source": [
    "## 欠損値の計測\n",
    "欠損値のカウントは以下のように行うことができます。"
   ]
  },
  {
   "cell_type": "code",
   "execution_count": 120,
   "metadata": {},
   "outputs": [
    {
     "data": {
      "text/html": [
       "<div><style>\n",
       ".dataframe > thead > tr,\n",
       ".dataframe > tbody > tr {\n",
       "  text-align: right;\n",
       "  white-space: pre-wrap;\n",
       "}\n",
       "</style>\n",
       "<small>shape: (1, 12)</small><table border=\"1\" class=\"dataframe\"><thead><tr><th>fixed_acidity</th><th>volatile_acidity</th><th>citric_acid</th><th>residual_sugar</th><th>chlorides</th><th>free_sulfur_dioxide</th><th>total_sulfur_dioxide</th><th>density</th><th>ph</th><th>sulphates</th><th>alcohol</th><th>quality</th></tr><tr><td>u32</td><td>u32</td><td>u32</td><td>u32</td><td>u32</td><td>u32</td><td>u32</td><td>u32</td><td>u32</td><td>u32</td><td>u32</td><td>u32</td></tr></thead><tbody><tr><td>0</td><td>0</td><td>0</td><td>0</td><td>0</td><td>0</td><td>0</td><td>0</td><td>0</td><td>0</td><td>0</td><td>0</td></tr></tbody></table></div>"
      ],
      "text/plain": [
       "shape: (1, 12)\n",
       "┌──────────────┬─────────────┬─────────────┬─────────────┬───┬─────┬───────────┬─────────┬─────────┐\n",
       "│ fixed_acidit ┆ volatile_ac ┆ citric_acid ┆ residual_su ┆ … ┆ ph  ┆ sulphates ┆ alcohol ┆ quality │\n",
       "│ y            ┆ idity       ┆ ---         ┆ gar         ┆   ┆ --- ┆ ---       ┆ ---     ┆ ---     │\n",
       "│ ---          ┆ ---         ┆ u32         ┆ ---         ┆   ┆ u32 ┆ u32       ┆ u32     ┆ u32     │\n",
       "│ u32          ┆ u32         ┆             ┆ u32         ┆   ┆     ┆           ┆         ┆         │\n",
       "╞══════════════╪═════════════╪═════════════╪═════════════╪═══╪═════╪═══════════╪═════════╪═════════╡\n",
       "│ 0            ┆ 0           ┆ 0           ┆ 0           ┆ … ┆ 0   ┆ 0         ┆ 0       ┆ 0       │\n",
       "└──────────────┴─────────────┴─────────────┴─────────────┴───┴─────┴───────────┴─────────┴─────────┘"
      ]
     },
     "execution_count": 120,
     "metadata": {},
     "output_type": "execute_result"
    }
   ],
   "source": [
    "df.null_count()"
   ]
  },
  {
   "cell_type": "markdown",
   "metadata": {},
   "source": [
    "出力を見る限りこのデータにはnull値は入っていないようです。\n",
    "しかしながら、データによっては0値が欠損値を表す場合もあるので、注意が必要です。\n",
    "データの意味を見てみると、今回のデータでは欠損値は存在しないようです。\n",
    "しかし、学習のため、以後citric_acidカラムが0の時を欠損値として扱ってみます。"
   ]
  },
  {
   "cell_type": "markdown",
   "metadata": {},
   "source": [
    "## カラムの平均値を求める"
   ]
  },
  {
   "cell_type": "code",
   "execution_count": 121,
   "metadata": {},
   "outputs": [
    {
     "name": "stdout",
     "output_type": "stream",
     "text": [
      "0.29535787321063395\n"
     ]
    }
   ],
   "source": [
    "# 平均値を求めたいカラムを指定する\n",
    "colum_name = \"citric_acid\"\n",
    "# 0.0の値を除外する\n",
    "df_tmp = df.select(colum_name).filter(pl.col(colum_name) != 0.0)\n",
    "# 平均値を求める\n",
    "mean = df_tmp[colum_name].mean()\n",
    "\n",
    "print(mean)"
   ]
  },
  {
   "cell_type": "markdown",
   "metadata": {},
   "source": [
    "## 0値を平均値で埋める\n",
    "nullを平均値で埋める方法は簡単ですが(fill_nullを使う)、0値を平均値で埋める方法は少し面倒です。\n",
    "ポイントとなるのはwhen...then...otherwise...構文を使うことです。\n",
    "この構文は、変換をする際に汎用的に使用できるのでむっちゃ重要です。\n",
    "これさえ覚えておけば、fill_nullを覚えてなくても大丈夫です。"
   ]
  },
  {
   "cell_type": "code",
   "execution_count": 122,
   "metadata": {},
   "outputs": [],
   "source": [
    "# 欠損値を平均値で埋める\n",
    "\n",
    "# citric_acid列の0.0を平均値で置き換える\n",
    "df = df.with_columns(\n",
    "    pl.when(pl.col(\"citric_acid\") == 0.0)  # citric_acid列が0.0の場合\n",
    "    .then(mean)  # 平均値で置き換える\n",
    "    .otherwise(pl.col(\"citric_acid\"))  # それ以外はそのまま\n",
    "    .alias(\"citric_acid\")  # 更新対象の列\n",
    ")"
   ]
  },
  {
   "cell_type": "markdown",
   "metadata": {},
   "source": [
    "null値を平均値で埋める場合は、when構文に与える条件式を`pl.col(\"citric_acid\").is_null()`のように記述します。"
   ]
  },
  {
   "cell_type": "code",
   "execution_count": 123,
   "metadata": {},
   "outputs": [
    {
     "data": {
      "text/html": [
       "<div><style>\n",
       ".dataframe > thead > tr,\n",
       ".dataframe > tbody > tr {\n",
       "  text-align: right;\n",
       "  white-space: pre-wrap;\n",
       "}\n",
       "</style>\n",
       "<small>shape: (1_599, 12)</small><table border=\"1\" class=\"dataframe\"><thead><tr><th>fixed_acidity</th><th>volatile_acidity</th><th>citric_acid</th><th>residual_sugar</th><th>chlorides</th><th>free_sulfur_dioxide</th><th>total_sulfur_dioxide</th><th>density</th><th>ph</th><th>sulphates</th><th>alcohol</th><th>quality</th></tr><tr><td>f64</td><td>f64</td><td>f64</td><td>f64</td><td>f64</td><td>f64</td><td>f64</td><td>f64</td><td>f64</td><td>f64</td><td>f64</td><td>i64</td></tr></thead><tbody><tr><td>7.4</td><td>0.7</td><td>null</td><td>1.9</td><td>0.076</td><td>11.0</td><td>34.0</td><td>0.9978</td><td>3.51</td><td>0.56</td><td>9.4</td><td>5</td></tr><tr><td>7.8</td><td>0.88</td><td>null</td><td>2.6</td><td>0.098</td><td>25.0</td><td>67.0</td><td>0.9968</td><td>3.2</td><td>0.68</td><td>9.8</td><td>5</td></tr><tr><td>7.8</td><td>0.76</td><td>0.04</td><td>2.3</td><td>0.092</td><td>15.0</td><td>54.0</td><td>0.997</td><td>3.26</td><td>0.65</td><td>9.8</td><td>5</td></tr><tr><td>11.2</td><td>0.28</td><td>0.56</td><td>1.9</td><td>0.075</td><td>17.0</td><td>60.0</td><td>0.998</td><td>3.16</td><td>0.58</td><td>9.8</td><td>6</td></tr><tr><td>7.4</td><td>0.7</td><td>null</td><td>1.9</td><td>0.076</td><td>11.0</td><td>34.0</td><td>0.9978</td><td>3.51</td><td>0.56</td><td>9.4</td><td>5</td></tr><tr><td>&hellip;</td><td>&hellip;</td><td>&hellip;</td><td>&hellip;</td><td>&hellip;</td><td>&hellip;</td><td>&hellip;</td><td>&hellip;</td><td>&hellip;</td><td>&hellip;</td><td>&hellip;</td><td>&hellip;</td></tr><tr><td>6.2</td><td>0.6</td><td>0.08</td><td>2.0</td><td>0.09</td><td>32.0</td><td>44.0</td><td>0.9949</td><td>3.45</td><td>0.58</td><td>10.5</td><td>5</td></tr><tr><td>5.9</td><td>0.55</td><td>0.1</td><td>2.2</td><td>0.062</td><td>39.0</td><td>51.0</td><td>0.99512</td><td>3.52</td><td>0.76</td><td>11.2</td><td>6</td></tr><tr><td>6.3</td><td>0.51</td><td>0.13</td><td>2.3</td><td>0.076</td><td>29.0</td><td>40.0</td><td>0.99574</td><td>3.42</td><td>0.75</td><td>11.0</td><td>6</td></tr><tr><td>5.9</td><td>0.645</td><td>0.12</td><td>2.0</td><td>0.075</td><td>32.0</td><td>44.0</td><td>0.99547</td><td>3.57</td><td>0.71</td><td>10.2</td><td>5</td></tr><tr><td>6.0</td><td>0.31</td><td>0.47</td><td>3.6</td><td>0.067</td><td>18.0</td><td>42.0</td><td>0.99549</td><td>3.39</td><td>0.66</td><td>11.0</td><td>6</td></tr></tbody></table></div>"
      ],
      "text/plain": [
       "shape: (1_599, 12)\n",
       "┌─────────────┬─────────────┬─────────────┬─────────────┬───┬──────┬───────────┬─────────┬─────────┐\n",
       "│ fixed_acidi ┆ volatile_ac ┆ citric_acid ┆ residual_su ┆ … ┆ ph   ┆ sulphates ┆ alcohol ┆ quality │\n",
       "│ ty          ┆ idity       ┆ ---         ┆ gar         ┆   ┆ ---  ┆ ---       ┆ ---     ┆ ---     │\n",
       "│ ---         ┆ ---         ┆ f64         ┆ ---         ┆   ┆ f64  ┆ f64       ┆ f64     ┆ i64     │\n",
       "│ f64         ┆ f64         ┆             ┆ f64         ┆   ┆      ┆           ┆         ┆         │\n",
       "╞═════════════╪═════════════╪═════════════╪═════════════╪═══╪══════╪═══════════╪═════════╪═════════╡\n",
       "│ 7.4         ┆ 0.7         ┆ null        ┆ 1.9         ┆ … ┆ 3.51 ┆ 0.56      ┆ 9.4     ┆ 5       │\n",
       "│ 7.8         ┆ 0.88        ┆ null        ┆ 2.6         ┆ … ┆ 3.2  ┆ 0.68      ┆ 9.8     ┆ 5       │\n",
       "│ 7.8         ┆ 0.76        ┆ 0.04        ┆ 2.3         ┆ … ┆ 3.26 ┆ 0.65      ┆ 9.8     ┆ 5       │\n",
       "│ 11.2        ┆ 0.28        ┆ 0.56        ┆ 1.9         ┆ … ┆ 3.16 ┆ 0.58      ┆ 9.8     ┆ 6       │\n",
       "│ 7.4         ┆ 0.7         ┆ null        ┆ 1.9         ┆ … ┆ 3.51 ┆ 0.56      ┆ 9.4     ┆ 5       │\n",
       "│ …           ┆ …           ┆ …           ┆ …           ┆ … ┆ …    ┆ …         ┆ …       ┆ …       │\n",
       "│ 6.2         ┆ 0.6         ┆ 0.08        ┆ 2.0         ┆ … ┆ 3.45 ┆ 0.58      ┆ 10.5    ┆ 5       │\n",
       "│ 5.9         ┆ 0.55        ┆ 0.1         ┆ 2.2         ┆ … ┆ 3.52 ┆ 0.76      ┆ 11.2    ┆ 6       │\n",
       "│ 6.3         ┆ 0.51        ┆ 0.13        ┆ 2.3         ┆ … ┆ 3.42 ┆ 0.75      ┆ 11.0    ┆ 6       │\n",
       "│ 5.9         ┆ 0.645       ┆ 0.12        ┆ 2.0         ┆ … ┆ 3.57 ┆ 0.71      ┆ 10.2    ┆ 5       │\n",
       "│ 6.0         ┆ 0.31        ┆ 0.47        ┆ 3.6         ┆ … ┆ 3.39 ┆ 0.66      ┆ 11.0    ┆ 6       │\n",
       "└─────────────┴─────────────┴─────────────┴─────────────┴───┴──────┴───────────┴─────────┴─────────┘"
      ]
     },
     "execution_count": 123,
     "metadata": {},
     "output_type": "execute_result"
    }
   ],
   "source": [
    "# このセルは読み飛ばしてください。\n",
    "# テスト用に平均値をnullで埋める(otherwiseを指定しなければ、そのカラムにはnull値が入ります)\n",
    "\n",
    "# citric_acid列の0.0を平均値で置き換える\n",
    "df = df.with_columns(\n",
    "    pl.when(pl.col(\"citric_acid\") != mean)  # citric_acid列がnullの場合\n",
    "    .then(pl.col(\"citric_acid\"))  # 平均値で置き換える\n",
    "    .alias(\"citric_acid\")  # 更新対象の列\n",
    ")\n",
    "df"
   ]
  },
  {
   "cell_type": "code",
   "execution_count": 124,
   "metadata": {},
   "outputs": [],
   "source": [
    "# 欠損値を平均値で埋める\n",
    "\n",
    "# citric_acid列の0.0を平均値で置き換える\n",
    "df = df.with_columns(\n",
    "    pl.when(pl.col(\"citric_acid\").is_null())  # citric_acid列がnullの場合\n",
    "    .then(mean)  # 平均値で置き換える\n",
    "    .otherwise(pl.col(\"citric_acid\"))  # それ以外はそのまま\n",
    "    .alias(\"citric_acid\")  # 更新対象の列\n",
    ")"
   ]
  },
  {
   "cell_type": "code",
   "execution_count": 125,
   "metadata": {},
   "outputs": [
    {
     "data": {
      "text/html": [
       "<div><style>\n",
       ".dataframe > thead > tr,\n",
       ".dataframe > tbody > tr {\n",
       "  text-align: right;\n",
       "  white-space: pre-wrap;\n",
       "}\n",
       "</style>\n",
       "<small>shape: (1_599, 12)</small><table border=\"1\" class=\"dataframe\"><thead><tr><th>fixed_acidity</th><th>volatile_acidity</th><th>citric_acid</th><th>residual_sugar</th><th>chlorides</th><th>free_sulfur_dioxide</th><th>total_sulfur_dioxide</th><th>density</th><th>ph</th><th>sulphates</th><th>alcohol</th><th>quality</th></tr><tr><td>f64</td><td>f64</td><td>f64</td><td>f64</td><td>f64</td><td>f64</td><td>f64</td><td>f64</td><td>f64</td><td>f64</td><td>f64</td><td>i64</td></tr></thead><tbody><tr><td>7.4</td><td>0.7</td><td>0.295358</td><td>1.9</td><td>0.076</td><td>11.0</td><td>34.0</td><td>0.9978</td><td>3.51</td><td>0.56</td><td>9.4</td><td>5</td></tr><tr><td>7.8</td><td>0.88</td><td>0.295358</td><td>2.6</td><td>0.098</td><td>25.0</td><td>67.0</td><td>0.9968</td><td>3.2</td><td>0.68</td><td>9.8</td><td>5</td></tr><tr><td>7.8</td><td>0.76</td><td>0.04</td><td>2.3</td><td>0.092</td><td>15.0</td><td>54.0</td><td>0.997</td><td>3.26</td><td>0.65</td><td>9.8</td><td>5</td></tr><tr><td>11.2</td><td>0.28</td><td>0.56</td><td>1.9</td><td>0.075</td><td>17.0</td><td>60.0</td><td>0.998</td><td>3.16</td><td>0.58</td><td>9.8</td><td>6</td></tr><tr><td>7.4</td><td>0.7</td><td>0.295358</td><td>1.9</td><td>0.076</td><td>11.0</td><td>34.0</td><td>0.9978</td><td>3.51</td><td>0.56</td><td>9.4</td><td>5</td></tr><tr><td>&hellip;</td><td>&hellip;</td><td>&hellip;</td><td>&hellip;</td><td>&hellip;</td><td>&hellip;</td><td>&hellip;</td><td>&hellip;</td><td>&hellip;</td><td>&hellip;</td><td>&hellip;</td><td>&hellip;</td></tr><tr><td>6.2</td><td>0.6</td><td>0.08</td><td>2.0</td><td>0.09</td><td>32.0</td><td>44.0</td><td>0.9949</td><td>3.45</td><td>0.58</td><td>10.5</td><td>5</td></tr><tr><td>5.9</td><td>0.55</td><td>0.1</td><td>2.2</td><td>0.062</td><td>39.0</td><td>51.0</td><td>0.99512</td><td>3.52</td><td>0.76</td><td>11.2</td><td>6</td></tr><tr><td>6.3</td><td>0.51</td><td>0.13</td><td>2.3</td><td>0.076</td><td>29.0</td><td>40.0</td><td>0.99574</td><td>3.42</td><td>0.75</td><td>11.0</td><td>6</td></tr><tr><td>5.9</td><td>0.645</td><td>0.12</td><td>2.0</td><td>0.075</td><td>32.0</td><td>44.0</td><td>0.99547</td><td>3.57</td><td>0.71</td><td>10.2</td><td>5</td></tr><tr><td>6.0</td><td>0.31</td><td>0.47</td><td>3.6</td><td>0.067</td><td>18.0</td><td>42.0</td><td>0.99549</td><td>3.39</td><td>0.66</td><td>11.0</td><td>6</td></tr></tbody></table></div>"
      ],
      "text/plain": [
       "shape: (1_599, 12)\n",
       "┌─────────────┬─────────────┬─────────────┬─────────────┬───┬──────┬───────────┬─────────┬─────────┐\n",
       "│ fixed_acidi ┆ volatile_ac ┆ citric_acid ┆ residual_su ┆ … ┆ ph   ┆ sulphates ┆ alcohol ┆ quality │\n",
       "│ ty          ┆ idity       ┆ ---         ┆ gar         ┆   ┆ ---  ┆ ---       ┆ ---     ┆ ---     │\n",
       "│ ---         ┆ ---         ┆ f64         ┆ ---         ┆   ┆ f64  ┆ f64       ┆ f64     ┆ i64     │\n",
       "│ f64         ┆ f64         ┆             ┆ f64         ┆   ┆      ┆           ┆         ┆         │\n",
       "╞═════════════╪═════════════╪═════════════╪═════════════╪═══╪══════╪═══════════╪═════════╪═════════╡\n",
       "│ 7.4         ┆ 0.7         ┆ 0.295358    ┆ 1.9         ┆ … ┆ 3.51 ┆ 0.56      ┆ 9.4     ┆ 5       │\n",
       "│ 7.8         ┆ 0.88        ┆ 0.295358    ┆ 2.6         ┆ … ┆ 3.2  ┆ 0.68      ┆ 9.8     ┆ 5       │\n",
       "│ 7.8         ┆ 0.76        ┆ 0.04        ┆ 2.3         ┆ … ┆ 3.26 ┆ 0.65      ┆ 9.8     ┆ 5       │\n",
       "│ 11.2        ┆ 0.28        ┆ 0.56        ┆ 1.9         ┆ … ┆ 3.16 ┆ 0.58      ┆ 9.8     ┆ 6       │\n",
       "│ 7.4         ┆ 0.7         ┆ 0.295358    ┆ 1.9         ┆ … ┆ 3.51 ┆ 0.56      ┆ 9.4     ┆ 5       │\n",
       "│ …           ┆ …           ┆ …           ┆ …           ┆ … ┆ …    ┆ …         ┆ …       ┆ …       │\n",
       "│ 6.2         ┆ 0.6         ┆ 0.08        ┆ 2.0         ┆ … ┆ 3.45 ┆ 0.58      ┆ 10.5    ┆ 5       │\n",
       "│ 5.9         ┆ 0.55        ┆ 0.1         ┆ 2.2         ┆ … ┆ 3.52 ┆ 0.76      ┆ 11.2    ┆ 6       │\n",
       "│ 6.3         ┆ 0.51        ┆ 0.13        ┆ 2.3         ┆ … ┆ 3.42 ┆ 0.75      ┆ 11.0    ┆ 6       │\n",
       "│ 5.9         ┆ 0.645       ┆ 0.12        ┆ 2.0         ┆ … ┆ 3.57 ┆ 0.71      ┆ 10.2    ┆ 5       │\n",
       "│ 6.0         ┆ 0.31        ┆ 0.47        ┆ 3.6         ┆ … ┆ 3.39 ┆ 0.66      ┆ 11.0    ┆ 6       │\n",
       "└─────────────┴─────────────┴─────────────┴─────────────┴───┴──────┴───────────┴─────────┴─────────┘"
      ]
     },
     "execution_count": 125,
     "metadata": {},
     "output_type": "execute_result"
    }
   ],
   "source": [
    "df"
   ]
  },
  {
   "cell_type": "markdown",
   "metadata": {},
   "source": [
    "## 欠損値を0で埋める\n",
    "when...then...otherwise...を使っても同じことができますが、一応紹介します。"
   ]
  },
  {
   "cell_type": "code",
   "execution_count": 126,
   "metadata": {},
   "outputs": [
    {
     "data": {
      "text/html": [
       "<div><style>\n",
       ".dataframe > thead > tr,\n",
       ".dataframe > tbody > tr {\n",
       "  text-align: right;\n",
       "  white-space: pre-wrap;\n",
       "}\n",
       "</style>\n",
       "<small>shape: (1_599, 12)</small><table border=\"1\" class=\"dataframe\"><thead><tr><th>fixed_acidity</th><th>volatile_acidity</th><th>citric_acid</th><th>residual_sugar</th><th>chlorides</th><th>free_sulfur_dioxide</th><th>total_sulfur_dioxide</th><th>density</th><th>ph</th><th>sulphates</th><th>alcohol</th><th>quality</th></tr><tr><td>f64</td><td>f64</td><td>f64</td><td>f64</td><td>f64</td><td>f64</td><td>f64</td><td>f64</td><td>f64</td><td>f64</td><td>f64</td><td>i64</td></tr></thead><tbody><tr><td>7.4</td><td>0.7</td><td>null</td><td>1.9</td><td>0.076</td><td>11.0</td><td>34.0</td><td>0.9978</td><td>3.51</td><td>0.56</td><td>9.4</td><td>5</td></tr><tr><td>7.8</td><td>0.88</td><td>null</td><td>2.6</td><td>0.098</td><td>25.0</td><td>67.0</td><td>0.9968</td><td>3.2</td><td>0.68</td><td>9.8</td><td>5</td></tr><tr><td>7.8</td><td>0.76</td><td>0.04</td><td>2.3</td><td>0.092</td><td>15.0</td><td>54.0</td><td>0.997</td><td>3.26</td><td>0.65</td><td>9.8</td><td>5</td></tr><tr><td>11.2</td><td>0.28</td><td>0.56</td><td>1.9</td><td>0.075</td><td>17.0</td><td>60.0</td><td>0.998</td><td>3.16</td><td>0.58</td><td>9.8</td><td>6</td></tr><tr><td>7.4</td><td>0.7</td><td>null</td><td>1.9</td><td>0.076</td><td>11.0</td><td>34.0</td><td>0.9978</td><td>3.51</td><td>0.56</td><td>9.4</td><td>5</td></tr><tr><td>&hellip;</td><td>&hellip;</td><td>&hellip;</td><td>&hellip;</td><td>&hellip;</td><td>&hellip;</td><td>&hellip;</td><td>&hellip;</td><td>&hellip;</td><td>&hellip;</td><td>&hellip;</td><td>&hellip;</td></tr><tr><td>6.2</td><td>0.6</td><td>0.08</td><td>2.0</td><td>0.09</td><td>32.0</td><td>44.0</td><td>0.9949</td><td>3.45</td><td>0.58</td><td>10.5</td><td>5</td></tr><tr><td>5.9</td><td>0.55</td><td>0.1</td><td>2.2</td><td>0.062</td><td>39.0</td><td>51.0</td><td>0.99512</td><td>3.52</td><td>0.76</td><td>11.2</td><td>6</td></tr><tr><td>6.3</td><td>0.51</td><td>0.13</td><td>2.3</td><td>0.076</td><td>29.0</td><td>40.0</td><td>0.99574</td><td>3.42</td><td>0.75</td><td>11.0</td><td>6</td></tr><tr><td>5.9</td><td>0.645</td><td>0.12</td><td>2.0</td><td>0.075</td><td>32.0</td><td>44.0</td><td>0.99547</td><td>3.57</td><td>0.71</td><td>10.2</td><td>5</td></tr><tr><td>6.0</td><td>0.31</td><td>0.47</td><td>3.6</td><td>0.067</td><td>18.0</td><td>42.0</td><td>0.99549</td><td>3.39</td><td>0.66</td><td>11.0</td><td>6</td></tr></tbody></table></div>"
      ],
      "text/plain": [
       "shape: (1_599, 12)\n",
       "┌─────────────┬─────────────┬─────────────┬─────────────┬───┬──────┬───────────┬─────────┬─────────┐\n",
       "│ fixed_acidi ┆ volatile_ac ┆ citric_acid ┆ residual_su ┆ … ┆ ph   ┆ sulphates ┆ alcohol ┆ quality │\n",
       "│ ty          ┆ idity       ┆ ---         ┆ gar         ┆   ┆ ---  ┆ ---       ┆ ---     ┆ ---     │\n",
       "│ ---         ┆ ---         ┆ f64         ┆ ---         ┆   ┆ f64  ┆ f64       ┆ f64     ┆ i64     │\n",
       "│ f64         ┆ f64         ┆             ┆ f64         ┆   ┆      ┆           ┆         ┆         │\n",
       "╞═════════════╪═════════════╪═════════════╪═════════════╪═══╪══════╪═══════════╪═════════╪═════════╡\n",
       "│ 7.4         ┆ 0.7         ┆ null        ┆ 1.9         ┆ … ┆ 3.51 ┆ 0.56      ┆ 9.4     ┆ 5       │\n",
       "│ 7.8         ┆ 0.88        ┆ null        ┆ 2.6         ┆ … ┆ 3.2  ┆ 0.68      ┆ 9.8     ┆ 5       │\n",
       "│ 7.8         ┆ 0.76        ┆ 0.04        ┆ 2.3         ┆ … ┆ 3.26 ┆ 0.65      ┆ 9.8     ┆ 5       │\n",
       "│ 11.2        ┆ 0.28        ┆ 0.56        ┆ 1.9         ┆ … ┆ 3.16 ┆ 0.58      ┆ 9.8     ┆ 6       │\n",
       "│ 7.4         ┆ 0.7         ┆ null        ┆ 1.9         ┆ … ┆ 3.51 ┆ 0.56      ┆ 9.4     ┆ 5       │\n",
       "│ …           ┆ …           ┆ …           ┆ …           ┆ … ┆ …    ┆ …         ┆ …       ┆ …       │\n",
       "│ 6.2         ┆ 0.6         ┆ 0.08        ┆ 2.0         ┆ … ┆ 3.45 ┆ 0.58      ┆ 10.5    ┆ 5       │\n",
       "│ 5.9         ┆ 0.55        ┆ 0.1         ┆ 2.2         ┆ … ┆ 3.52 ┆ 0.76      ┆ 11.2    ┆ 6       │\n",
       "│ 6.3         ┆ 0.51        ┆ 0.13        ┆ 2.3         ┆ … ┆ 3.42 ┆ 0.75      ┆ 11.0    ┆ 6       │\n",
       "│ 5.9         ┆ 0.645       ┆ 0.12        ┆ 2.0         ┆ … ┆ 3.57 ┆ 0.71      ┆ 10.2    ┆ 5       │\n",
       "│ 6.0         ┆ 0.31        ┆ 0.47        ┆ 3.6         ┆ … ┆ 3.39 ┆ 0.66      ┆ 11.0    ┆ 6       │\n",
       "└─────────────┴─────────────┴─────────────┴─────────────┴───┴──────┴───────────┴─────────┴─────────┘"
      ]
     },
     "execution_count": 126,
     "metadata": {},
     "output_type": "execute_result"
    }
   ],
   "source": [
    "# テスト用に平均値をnullで埋める(otherwiseを指定しなければ、そのカラムにはnull値が入ります)\n",
    "\n",
    "# citric_acid列の0.0を平均値で置き換える\n",
    "df = df.with_columns(\n",
    "    pl.when(pl.col(\"citric_acid\") != mean)  # citric_acid列がnullの場合\n",
    "    .then(pl.col(\"citric_acid\"))  # 平均値で置き換える\n",
    "    .alias(\"citric_acid\")  # 更新対象の列\n",
    ")\n",
    "df"
   ]
  },
  {
   "cell_type": "code",
   "execution_count": 127,
   "metadata": {},
   "outputs": [
    {
     "data": {
      "text/html": [
       "<div><style>\n",
       ".dataframe > thead > tr,\n",
       ".dataframe > tbody > tr {\n",
       "  text-align: right;\n",
       "  white-space: pre-wrap;\n",
       "}\n",
       "</style>\n",
       "<small>shape: (1_599, 12)</small><table border=\"1\" class=\"dataframe\"><thead><tr><th>fixed_acidity</th><th>volatile_acidity</th><th>citric_acid</th><th>residual_sugar</th><th>chlorides</th><th>free_sulfur_dioxide</th><th>total_sulfur_dioxide</th><th>density</th><th>ph</th><th>sulphates</th><th>alcohol</th><th>quality</th></tr><tr><td>f64</td><td>f64</td><td>f64</td><td>f64</td><td>f64</td><td>f64</td><td>f64</td><td>f64</td><td>f64</td><td>f64</td><td>f64</td><td>i64</td></tr></thead><tbody><tr><td>7.4</td><td>0.7</td><td>0.0</td><td>1.9</td><td>0.076</td><td>11.0</td><td>34.0</td><td>0.9978</td><td>3.51</td><td>0.56</td><td>9.4</td><td>5</td></tr><tr><td>7.8</td><td>0.88</td><td>0.0</td><td>2.6</td><td>0.098</td><td>25.0</td><td>67.0</td><td>0.9968</td><td>3.2</td><td>0.68</td><td>9.8</td><td>5</td></tr><tr><td>7.8</td><td>0.76</td><td>0.04</td><td>2.3</td><td>0.092</td><td>15.0</td><td>54.0</td><td>0.997</td><td>3.26</td><td>0.65</td><td>9.8</td><td>5</td></tr><tr><td>11.2</td><td>0.28</td><td>0.56</td><td>1.9</td><td>0.075</td><td>17.0</td><td>60.0</td><td>0.998</td><td>3.16</td><td>0.58</td><td>9.8</td><td>6</td></tr><tr><td>7.4</td><td>0.7</td><td>0.0</td><td>1.9</td><td>0.076</td><td>11.0</td><td>34.0</td><td>0.9978</td><td>3.51</td><td>0.56</td><td>9.4</td><td>5</td></tr><tr><td>&hellip;</td><td>&hellip;</td><td>&hellip;</td><td>&hellip;</td><td>&hellip;</td><td>&hellip;</td><td>&hellip;</td><td>&hellip;</td><td>&hellip;</td><td>&hellip;</td><td>&hellip;</td><td>&hellip;</td></tr><tr><td>6.2</td><td>0.6</td><td>0.08</td><td>2.0</td><td>0.09</td><td>32.0</td><td>44.0</td><td>0.9949</td><td>3.45</td><td>0.58</td><td>10.5</td><td>5</td></tr><tr><td>5.9</td><td>0.55</td><td>0.1</td><td>2.2</td><td>0.062</td><td>39.0</td><td>51.0</td><td>0.99512</td><td>3.52</td><td>0.76</td><td>11.2</td><td>6</td></tr><tr><td>6.3</td><td>0.51</td><td>0.13</td><td>2.3</td><td>0.076</td><td>29.0</td><td>40.0</td><td>0.99574</td><td>3.42</td><td>0.75</td><td>11.0</td><td>6</td></tr><tr><td>5.9</td><td>0.645</td><td>0.12</td><td>2.0</td><td>0.075</td><td>32.0</td><td>44.0</td><td>0.99547</td><td>3.57</td><td>0.71</td><td>10.2</td><td>5</td></tr><tr><td>6.0</td><td>0.31</td><td>0.47</td><td>3.6</td><td>0.067</td><td>18.0</td><td>42.0</td><td>0.99549</td><td>3.39</td><td>0.66</td><td>11.0</td><td>6</td></tr></tbody></table></div>"
      ],
      "text/plain": [
       "shape: (1_599, 12)\n",
       "┌─────────────┬─────────────┬─────────────┬─────────────┬───┬──────┬───────────┬─────────┬─────────┐\n",
       "│ fixed_acidi ┆ volatile_ac ┆ citric_acid ┆ residual_su ┆ … ┆ ph   ┆ sulphates ┆ alcohol ┆ quality │\n",
       "│ ty          ┆ idity       ┆ ---         ┆ gar         ┆   ┆ ---  ┆ ---       ┆ ---     ┆ ---     │\n",
       "│ ---         ┆ ---         ┆ f64         ┆ ---         ┆   ┆ f64  ┆ f64       ┆ f64     ┆ i64     │\n",
       "│ f64         ┆ f64         ┆             ┆ f64         ┆   ┆      ┆           ┆         ┆         │\n",
       "╞═════════════╪═════════════╪═════════════╪═════════════╪═══╪══════╪═══════════╪═════════╪═════════╡\n",
       "│ 7.4         ┆ 0.7         ┆ 0.0         ┆ 1.9         ┆ … ┆ 3.51 ┆ 0.56      ┆ 9.4     ┆ 5       │\n",
       "│ 7.8         ┆ 0.88        ┆ 0.0         ┆ 2.6         ┆ … ┆ 3.2  ┆ 0.68      ┆ 9.8     ┆ 5       │\n",
       "│ 7.8         ┆ 0.76        ┆ 0.04        ┆ 2.3         ┆ … ┆ 3.26 ┆ 0.65      ┆ 9.8     ┆ 5       │\n",
       "│ 11.2        ┆ 0.28        ┆ 0.56        ┆ 1.9         ┆ … ┆ 3.16 ┆ 0.58      ┆ 9.8     ┆ 6       │\n",
       "│ 7.4         ┆ 0.7         ┆ 0.0         ┆ 1.9         ┆ … ┆ 3.51 ┆ 0.56      ┆ 9.4     ┆ 5       │\n",
       "│ …           ┆ …           ┆ …           ┆ …           ┆ … ┆ …    ┆ …         ┆ …       ┆ …       │\n",
       "│ 6.2         ┆ 0.6         ┆ 0.08        ┆ 2.0         ┆ … ┆ 3.45 ┆ 0.58      ┆ 10.5    ┆ 5       │\n",
       "│ 5.9         ┆ 0.55        ┆ 0.1         ┆ 2.2         ┆ … ┆ 3.52 ┆ 0.76      ┆ 11.2    ┆ 6       │\n",
       "│ 6.3         ┆ 0.51        ┆ 0.13        ┆ 2.3         ┆ … ┆ 3.42 ┆ 0.75      ┆ 11.0    ┆ 6       │\n",
       "│ 5.9         ┆ 0.645       ┆ 0.12        ┆ 2.0         ┆ … ┆ 3.57 ┆ 0.71      ┆ 10.2    ┆ 5       │\n",
       "│ 6.0         ┆ 0.31        ┆ 0.47        ┆ 3.6         ┆ … ┆ 3.39 ┆ 0.66      ┆ 11.0    ┆ 6       │\n",
       "└─────────────┴─────────────┴─────────────┴─────────────┴───┴──────┴───────────┴─────────┴─────────┘"
      ]
     },
     "execution_count": 127,
     "metadata": {},
     "output_type": "execute_result"
    }
   ],
   "source": [
    "df.fill_null(0)"
   ]
  },
  {
   "cell_type": "markdown",
   "metadata": {},
   "source": [
    "## 欠損値を最大値で埋める"
   ]
  },
  {
   "cell_type": "code",
   "execution_count": 128,
   "metadata": {},
   "outputs": [
    {
     "data": {
      "text/html": [
       "<div><style>\n",
       ".dataframe > thead > tr,\n",
       ".dataframe > tbody > tr {\n",
       "  text-align: right;\n",
       "  white-space: pre-wrap;\n",
       "}\n",
       "</style>\n",
       "<small>shape: (1_599, 12)</small><table border=\"1\" class=\"dataframe\"><thead><tr><th>fixed_acidity</th><th>volatile_acidity</th><th>citric_acid</th><th>residual_sugar</th><th>chlorides</th><th>free_sulfur_dioxide</th><th>total_sulfur_dioxide</th><th>density</th><th>ph</th><th>sulphates</th><th>alcohol</th><th>quality</th></tr><tr><td>f64</td><td>f64</td><td>f64</td><td>f64</td><td>f64</td><td>f64</td><td>f64</td><td>f64</td><td>f64</td><td>f64</td><td>f64</td><td>i64</td></tr></thead><tbody><tr><td>7.4</td><td>0.7</td><td>null</td><td>1.9</td><td>0.076</td><td>11.0</td><td>34.0</td><td>0.9978</td><td>3.51</td><td>0.56</td><td>9.4</td><td>5</td></tr><tr><td>7.8</td><td>0.88</td><td>null</td><td>2.6</td><td>0.098</td><td>25.0</td><td>67.0</td><td>0.9968</td><td>3.2</td><td>0.68</td><td>9.8</td><td>5</td></tr><tr><td>7.8</td><td>0.76</td><td>0.04</td><td>2.3</td><td>0.092</td><td>15.0</td><td>54.0</td><td>0.997</td><td>3.26</td><td>0.65</td><td>9.8</td><td>5</td></tr><tr><td>11.2</td><td>0.28</td><td>0.56</td><td>1.9</td><td>0.075</td><td>17.0</td><td>60.0</td><td>0.998</td><td>3.16</td><td>0.58</td><td>9.8</td><td>6</td></tr><tr><td>7.4</td><td>0.7</td><td>null</td><td>1.9</td><td>0.076</td><td>11.0</td><td>34.0</td><td>0.9978</td><td>3.51</td><td>0.56</td><td>9.4</td><td>5</td></tr><tr><td>&hellip;</td><td>&hellip;</td><td>&hellip;</td><td>&hellip;</td><td>&hellip;</td><td>&hellip;</td><td>&hellip;</td><td>&hellip;</td><td>&hellip;</td><td>&hellip;</td><td>&hellip;</td><td>&hellip;</td></tr><tr><td>6.2</td><td>0.6</td><td>0.08</td><td>2.0</td><td>0.09</td><td>32.0</td><td>44.0</td><td>0.9949</td><td>3.45</td><td>0.58</td><td>10.5</td><td>5</td></tr><tr><td>5.9</td><td>0.55</td><td>0.1</td><td>2.2</td><td>0.062</td><td>39.0</td><td>51.0</td><td>0.99512</td><td>3.52</td><td>0.76</td><td>11.2</td><td>6</td></tr><tr><td>6.3</td><td>0.51</td><td>0.13</td><td>2.3</td><td>0.076</td><td>29.0</td><td>40.0</td><td>0.99574</td><td>3.42</td><td>0.75</td><td>11.0</td><td>6</td></tr><tr><td>5.9</td><td>0.645</td><td>0.12</td><td>2.0</td><td>0.075</td><td>32.0</td><td>44.0</td><td>0.99547</td><td>3.57</td><td>0.71</td><td>10.2</td><td>5</td></tr><tr><td>6.0</td><td>0.31</td><td>0.47</td><td>3.6</td><td>0.067</td><td>18.0</td><td>42.0</td><td>0.99549</td><td>3.39</td><td>0.66</td><td>11.0</td><td>6</td></tr></tbody></table></div>"
      ],
      "text/plain": [
       "shape: (1_599, 12)\n",
       "┌─────────────┬─────────────┬─────────────┬─────────────┬───┬──────┬───────────┬─────────┬─────────┐\n",
       "│ fixed_acidi ┆ volatile_ac ┆ citric_acid ┆ residual_su ┆ … ┆ ph   ┆ sulphates ┆ alcohol ┆ quality │\n",
       "│ ty          ┆ idity       ┆ ---         ┆ gar         ┆   ┆ ---  ┆ ---       ┆ ---     ┆ ---     │\n",
       "│ ---         ┆ ---         ┆ f64         ┆ ---         ┆   ┆ f64  ┆ f64       ┆ f64     ┆ i64     │\n",
       "│ f64         ┆ f64         ┆             ┆ f64         ┆   ┆      ┆           ┆         ┆         │\n",
       "╞═════════════╪═════════════╪═════════════╪═════════════╪═══╪══════╪═══════════╪═════════╪═════════╡\n",
       "│ 7.4         ┆ 0.7         ┆ null        ┆ 1.9         ┆ … ┆ 3.51 ┆ 0.56      ┆ 9.4     ┆ 5       │\n",
       "│ 7.8         ┆ 0.88        ┆ null        ┆ 2.6         ┆ … ┆ 3.2  ┆ 0.68      ┆ 9.8     ┆ 5       │\n",
       "│ 7.8         ┆ 0.76        ┆ 0.04        ┆ 2.3         ┆ … ┆ 3.26 ┆ 0.65      ┆ 9.8     ┆ 5       │\n",
       "│ 11.2        ┆ 0.28        ┆ 0.56        ┆ 1.9         ┆ … ┆ 3.16 ┆ 0.58      ┆ 9.8     ┆ 6       │\n",
       "│ 7.4         ┆ 0.7         ┆ null        ┆ 1.9         ┆ … ┆ 3.51 ┆ 0.56      ┆ 9.4     ┆ 5       │\n",
       "│ …           ┆ …           ┆ …           ┆ …           ┆ … ┆ …    ┆ …         ┆ …       ┆ …       │\n",
       "│ 6.2         ┆ 0.6         ┆ 0.08        ┆ 2.0         ┆ … ┆ 3.45 ┆ 0.58      ┆ 10.5    ┆ 5       │\n",
       "│ 5.9         ┆ 0.55        ┆ 0.1         ┆ 2.2         ┆ … ┆ 3.52 ┆ 0.76      ┆ 11.2    ┆ 6       │\n",
       "│ 6.3         ┆ 0.51        ┆ 0.13        ┆ 2.3         ┆ … ┆ 3.42 ┆ 0.75      ┆ 11.0    ┆ 6       │\n",
       "│ 5.9         ┆ 0.645       ┆ 0.12        ┆ 2.0         ┆ … ┆ 3.57 ┆ 0.71      ┆ 10.2    ┆ 5       │\n",
       "│ 6.0         ┆ 0.31        ┆ 0.47        ┆ 3.6         ┆ … ┆ 3.39 ┆ 0.66      ┆ 11.0    ┆ 6       │\n",
       "└─────────────┴─────────────┴─────────────┴─────────────┴───┴──────┴───────────┴─────────┴─────────┘"
      ]
     },
     "execution_count": 128,
     "metadata": {},
     "output_type": "execute_result"
    }
   ],
   "source": [
    "df"
   ]
  },
  {
   "cell_type": "markdown",
   "metadata": {},
   "source": [
    "毎度のことですが、nullにします。"
   ]
  },
  {
   "cell_type": "code",
   "execution_count": 129,
   "metadata": {},
   "outputs": [
    {
     "data": {
      "text/html": [
       "<div><style>\n",
       ".dataframe > thead > tr,\n",
       ".dataframe > tbody > tr {\n",
       "  text-align: right;\n",
       "  white-space: pre-wrap;\n",
       "}\n",
       "</style>\n",
       "<small>shape: (1_599, 12)</small><table border=\"1\" class=\"dataframe\"><thead><tr><th>fixed_acidity</th><th>volatile_acidity</th><th>citric_acid</th><th>residual_sugar</th><th>chlorides</th><th>free_sulfur_dioxide</th><th>total_sulfur_dioxide</th><th>density</th><th>ph</th><th>sulphates</th><th>alcohol</th><th>quality</th></tr><tr><td>f64</td><td>f64</td><td>f64</td><td>f64</td><td>f64</td><td>f64</td><td>f64</td><td>f64</td><td>f64</td><td>f64</td><td>f64</td><td>i64</td></tr></thead><tbody><tr><td>7.4</td><td>0.7</td><td>null</td><td>1.9</td><td>0.076</td><td>11.0</td><td>34.0</td><td>0.9978</td><td>3.51</td><td>0.56</td><td>9.4</td><td>5</td></tr><tr><td>7.8</td><td>0.88</td><td>null</td><td>2.6</td><td>0.098</td><td>25.0</td><td>67.0</td><td>0.9968</td><td>3.2</td><td>0.68</td><td>9.8</td><td>5</td></tr><tr><td>7.8</td><td>0.76</td><td>0.04</td><td>2.3</td><td>0.092</td><td>15.0</td><td>54.0</td><td>0.997</td><td>3.26</td><td>0.65</td><td>9.8</td><td>5</td></tr><tr><td>11.2</td><td>0.28</td><td>0.56</td><td>1.9</td><td>0.075</td><td>17.0</td><td>60.0</td><td>0.998</td><td>3.16</td><td>0.58</td><td>9.8</td><td>6</td></tr><tr><td>7.4</td><td>0.7</td><td>null</td><td>1.9</td><td>0.076</td><td>11.0</td><td>34.0</td><td>0.9978</td><td>3.51</td><td>0.56</td><td>9.4</td><td>5</td></tr><tr><td>&hellip;</td><td>&hellip;</td><td>&hellip;</td><td>&hellip;</td><td>&hellip;</td><td>&hellip;</td><td>&hellip;</td><td>&hellip;</td><td>&hellip;</td><td>&hellip;</td><td>&hellip;</td><td>&hellip;</td></tr><tr><td>6.2</td><td>0.6</td><td>0.08</td><td>2.0</td><td>0.09</td><td>32.0</td><td>44.0</td><td>0.9949</td><td>3.45</td><td>0.58</td><td>10.5</td><td>5</td></tr><tr><td>5.9</td><td>0.55</td><td>0.1</td><td>2.2</td><td>0.062</td><td>39.0</td><td>51.0</td><td>0.99512</td><td>3.52</td><td>0.76</td><td>11.2</td><td>6</td></tr><tr><td>6.3</td><td>0.51</td><td>0.13</td><td>2.3</td><td>0.076</td><td>29.0</td><td>40.0</td><td>0.99574</td><td>3.42</td><td>0.75</td><td>11.0</td><td>6</td></tr><tr><td>5.9</td><td>0.645</td><td>0.12</td><td>2.0</td><td>0.075</td><td>32.0</td><td>44.0</td><td>0.99547</td><td>3.57</td><td>0.71</td><td>10.2</td><td>5</td></tr><tr><td>6.0</td><td>0.31</td><td>0.47</td><td>3.6</td><td>0.067</td><td>18.0</td><td>42.0</td><td>0.99549</td><td>3.39</td><td>0.66</td><td>11.0</td><td>6</td></tr></tbody></table></div>"
      ],
      "text/plain": [
       "shape: (1_599, 12)\n",
       "┌─────────────┬─────────────┬─────────────┬─────────────┬───┬──────┬───────────┬─────────┬─────────┐\n",
       "│ fixed_acidi ┆ volatile_ac ┆ citric_acid ┆ residual_su ┆ … ┆ ph   ┆ sulphates ┆ alcohol ┆ quality │\n",
       "│ ty          ┆ idity       ┆ ---         ┆ gar         ┆   ┆ ---  ┆ ---       ┆ ---     ┆ ---     │\n",
       "│ ---         ┆ ---         ┆ f64         ┆ ---         ┆   ┆ f64  ┆ f64       ┆ f64     ┆ i64     │\n",
       "│ f64         ┆ f64         ┆             ┆ f64         ┆   ┆      ┆           ┆         ┆         │\n",
       "╞═════════════╪═════════════╪═════════════╪═════════════╪═══╪══════╪═══════════╪═════════╪═════════╡\n",
       "│ 7.4         ┆ 0.7         ┆ null        ┆ 1.9         ┆ … ┆ 3.51 ┆ 0.56      ┆ 9.4     ┆ 5       │\n",
       "│ 7.8         ┆ 0.88        ┆ null        ┆ 2.6         ┆ … ┆ 3.2  ┆ 0.68      ┆ 9.8     ┆ 5       │\n",
       "│ 7.8         ┆ 0.76        ┆ 0.04        ┆ 2.3         ┆ … ┆ 3.26 ┆ 0.65      ┆ 9.8     ┆ 5       │\n",
       "│ 11.2        ┆ 0.28        ┆ 0.56        ┆ 1.9         ┆ … ┆ 3.16 ┆ 0.58      ┆ 9.8     ┆ 6       │\n",
       "│ 7.4         ┆ 0.7         ┆ null        ┆ 1.9         ┆ … ┆ 3.51 ┆ 0.56      ┆ 9.4     ┆ 5       │\n",
       "│ …           ┆ …           ┆ …           ┆ …           ┆ … ┆ …    ┆ …         ┆ …       ┆ …       │\n",
       "│ 6.2         ┆ 0.6         ┆ 0.08        ┆ 2.0         ┆ … ┆ 3.45 ┆ 0.58      ┆ 10.5    ┆ 5       │\n",
       "│ 5.9         ┆ 0.55        ┆ 0.1         ┆ 2.2         ┆ … ┆ 3.52 ┆ 0.76      ┆ 11.2    ┆ 6       │\n",
       "│ 6.3         ┆ 0.51        ┆ 0.13        ┆ 2.3         ┆ … ┆ 3.42 ┆ 0.75      ┆ 11.0    ┆ 6       │\n",
       "│ 5.9         ┆ 0.645       ┆ 0.12        ┆ 2.0         ┆ … ┆ 3.57 ┆ 0.71      ┆ 10.2    ┆ 5       │\n",
       "│ 6.0         ┆ 0.31        ┆ 0.47        ┆ 3.6         ┆ … ┆ 3.39 ┆ 0.66      ┆ 11.0    ┆ 6       │\n",
       "└─────────────┴─────────────┴─────────────┴─────────────┴───┴──────┴───────────┴─────────┴─────────┘"
      ]
     },
     "execution_count": 129,
     "metadata": {},
     "output_type": "execute_result"
    }
   ],
   "source": [
    "# テスト用に平均値をnullで埋める(otherwiseを指定しなければ、そのカラムにはnull値が入ります)\n",
    "\n",
    "# citric_acid列の0.0を平均値で置き換える\n",
    "df = df.with_columns(\n",
    "    pl.when(pl.col(\"citric_acid\") != mean)  # citric_acid列がnullの場合\n",
    "    .then(pl.col(\"citric_acid\"))  # 平均値で置き換える\n",
    "    .alias(\"citric_acid\")  # 更新対象の列\n",
    ")\n",
    "df"
   ]
  },
  {
   "cell_type": "markdown",
   "metadata": {},
   "source": [
    "以下のコードを実行すると、`citric_acid`カラムのnull値が最大値で埋められます。"
   ]
  },
  {
   "cell_type": "code",
   "execution_count": 130,
   "metadata": {},
   "outputs": [
    {
     "name": "stdout",
     "output_type": "stream",
     "text": [
      "1.0\n"
     ]
    },
    {
     "data": {
      "text/html": [
       "<div><style>\n",
       ".dataframe > thead > tr,\n",
       ".dataframe > tbody > tr {\n",
       "  text-align: right;\n",
       "  white-space: pre-wrap;\n",
       "}\n",
       "</style>\n",
       "<small>shape: (1_599, 12)</small><table border=\"1\" class=\"dataframe\"><thead><tr><th>fixed_acidity</th><th>volatile_acidity</th><th>citric_acid</th><th>residual_sugar</th><th>chlorides</th><th>free_sulfur_dioxide</th><th>total_sulfur_dioxide</th><th>density</th><th>ph</th><th>sulphates</th><th>alcohol</th><th>quality</th></tr><tr><td>f64</td><td>f64</td><td>f64</td><td>f64</td><td>f64</td><td>f64</td><td>f64</td><td>f64</td><td>f64</td><td>f64</td><td>f64</td><td>i64</td></tr></thead><tbody><tr><td>7.4</td><td>0.7</td><td>1.0</td><td>1.9</td><td>0.076</td><td>11.0</td><td>34.0</td><td>0.9978</td><td>3.51</td><td>0.56</td><td>9.4</td><td>5</td></tr><tr><td>7.8</td><td>0.88</td><td>1.0</td><td>2.6</td><td>0.098</td><td>25.0</td><td>67.0</td><td>0.9968</td><td>3.2</td><td>0.68</td><td>9.8</td><td>5</td></tr><tr><td>7.8</td><td>0.76</td><td>0.04</td><td>2.3</td><td>0.092</td><td>15.0</td><td>54.0</td><td>0.997</td><td>3.26</td><td>0.65</td><td>9.8</td><td>5</td></tr><tr><td>11.2</td><td>0.28</td><td>0.56</td><td>1.9</td><td>0.075</td><td>17.0</td><td>60.0</td><td>0.998</td><td>3.16</td><td>0.58</td><td>9.8</td><td>6</td></tr><tr><td>7.4</td><td>0.7</td><td>1.0</td><td>1.9</td><td>0.076</td><td>11.0</td><td>34.0</td><td>0.9978</td><td>3.51</td><td>0.56</td><td>9.4</td><td>5</td></tr><tr><td>&hellip;</td><td>&hellip;</td><td>&hellip;</td><td>&hellip;</td><td>&hellip;</td><td>&hellip;</td><td>&hellip;</td><td>&hellip;</td><td>&hellip;</td><td>&hellip;</td><td>&hellip;</td><td>&hellip;</td></tr><tr><td>6.2</td><td>0.6</td><td>0.08</td><td>2.0</td><td>0.09</td><td>32.0</td><td>44.0</td><td>0.9949</td><td>3.45</td><td>0.58</td><td>10.5</td><td>5</td></tr><tr><td>5.9</td><td>0.55</td><td>0.1</td><td>2.2</td><td>0.062</td><td>39.0</td><td>51.0</td><td>0.99512</td><td>3.52</td><td>0.76</td><td>11.2</td><td>6</td></tr><tr><td>6.3</td><td>0.51</td><td>0.13</td><td>2.3</td><td>0.076</td><td>29.0</td><td>40.0</td><td>0.99574</td><td>3.42</td><td>0.75</td><td>11.0</td><td>6</td></tr><tr><td>5.9</td><td>0.645</td><td>0.12</td><td>2.0</td><td>0.075</td><td>32.0</td><td>44.0</td><td>0.99547</td><td>3.57</td><td>0.71</td><td>10.2</td><td>5</td></tr><tr><td>6.0</td><td>0.31</td><td>0.47</td><td>3.6</td><td>0.067</td><td>18.0</td><td>42.0</td><td>0.99549</td><td>3.39</td><td>0.66</td><td>11.0</td><td>6</td></tr></tbody></table></div>"
      ],
      "text/plain": [
       "shape: (1_599, 12)\n",
       "┌─────────────┬─────────────┬─────────────┬─────────────┬───┬──────┬───────────┬─────────┬─────────┐\n",
       "│ fixed_acidi ┆ volatile_ac ┆ citric_acid ┆ residual_su ┆ … ┆ ph   ┆ sulphates ┆ alcohol ┆ quality │\n",
       "│ ty          ┆ idity       ┆ ---         ┆ gar         ┆   ┆ ---  ┆ ---       ┆ ---     ┆ ---     │\n",
       "│ ---         ┆ ---         ┆ f64         ┆ ---         ┆   ┆ f64  ┆ f64       ┆ f64     ┆ i64     │\n",
       "│ f64         ┆ f64         ┆             ┆ f64         ┆   ┆      ┆           ┆         ┆         │\n",
       "╞═════════════╪═════════════╪═════════════╪═════════════╪═══╪══════╪═══════════╪═════════╪═════════╡\n",
       "│ 7.4         ┆ 0.7         ┆ 1.0         ┆ 1.9         ┆ … ┆ 3.51 ┆ 0.56      ┆ 9.4     ┆ 5       │\n",
       "│ 7.8         ┆ 0.88        ┆ 1.0         ┆ 2.6         ┆ … ┆ 3.2  ┆ 0.68      ┆ 9.8     ┆ 5       │\n",
       "│ 7.8         ┆ 0.76        ┆ 0.04        ┆ 2.3         ┆ … ┆ 3.26 ┆ 0.65      ┆ 9.8     ┆ 5       │\n",
       "│ 11.2        ┆ 0.28        ┆ 0.56        ┆ 1.9         ┆ … ┆ 3.16 ┆ 0.58      ┆ 9.8     ┆ 6       │\n",
       "│ 7.4         ┆ 0.7         ┆ 1.0         ┆ 1.9         ┆ … ┆ 3.51 ┆ 0.56      ┆ 9.4     ┆ 5       │\n",
       "│ …           ┆ …           ┆ …           ┆ …           ┆ … ┆ …    ┆ …         ┆ …       ┆ …       │\n",
       "│ 6.2         ┆ 0.6         ┆ 0.08        ┆ 2.0         ┆ … ┆ 3.45 ┆ 0.58      ┆ 10.5    ┆ 5       │\n",
       "│ 5.9         ┆ 0.55        ┆ 0.1         ┆ 2.2         ┆ … ┆ 3.52 ┆ 0.76      ┆ 11.2    ┆ 6       │\n",
       "│ 6.3         ┆ 0.51        ┆ 0.13        ┆ 2.3         ┆ … ┆ 3.42 ┆ 0.75      ┆ 11.0    ┆ 6       │\n",
       "│ 5.9         ┆ 0.645       ┆ 0.12        ┆ 2.0         ┆ … ┆ 3.57 ┆ 0.71      ┆ 10.2    ┆ 5       │\n",
       "│ 6.0         ┆ 0.31        ┆ 0.47        ┆ 3.6         ┆ … ┆ 3.39 ┆ 0.66      ┆ 11.0    ┆ 6       │\n",
       "└─────────────┴─────────────┴─────────────┴─────────────┴───┴──────┴───────────┴─────────┴─────────┘"
      ]
     },
     "execution_count": 130,
     "metadata": {},
     "output_type": "execute_result"
    }
   ],
   "source": [
    "# 埋めたいカラムの最大値を求める\n",
    "colum_name = \"citric_acid\"  # 埋めたいカラム名\n",
    "max_value = df[colum_name].max()\n",
    "print(max_value)\n",
    "\n",
    "\n",
    "# 自作の関数を作成する\n",
    "\n",
    "\n",
    "# applyで関数を適用する\n",
    "df = df.with_columns(\n",
    "    pl.when(pl.col(colum_name).is_null())\n",
    "    .then(max_value)\n",
    "    .otherwise(pl.col(colum_name))\n",
    "    .alias(colum_name)\n",
    ")\n",
    "df"
   ]
  },
  {
   "cell_type": "markdown",
   "metadata": {},
   "source": [
    "---"
   ]
  },
  {
   "cell_type": "markdown",
   "metadata": {},
   "source": [
    "# おまけ"
   ]
  },
  {
   "cell_type": "markdown",
   "metadata": {},
   "source": [
    "## pandasオブジェクトに変換\n",
    "これをするには`pyarrow`をインストールする必要があります。\n",
    "`pip install pyarrow`"
   ]
  },
  {
   "cell_type": "code",
   "execution_count": 131,
   "metadata": {},
   "outputs": [
    {
     "data": {
      "text/html": [
       "<div>\n",
       "<style scoped>\n",
       "    .dataframe tbody tr th:only-of-type {\n",
       "        vertical-align: middle;\n",
       "    }\n",
       "\n",
       "    .dataframe tbody tr th {\n",
       "        vertical-align: top;\n",
       "    }\n",
       "\n",
       "    .dataframe thead th {\n",
       "        text-align: right;\n",
       "    }\n",
       "</style>\n",
       "<table border=\"1\" class=\"dataframe\">\n",
       "  <thead>\n",
       "    <tr style=\"text-align: right;\">\n",
       "      <th></th>\n",
       "      <th>fixed_acidity</th>\n",
       "      <th>volatile_acidity</th>\n",
       "      <th>citric_acid</th>\n",
       "      <th>residual_sugar</th>\n",
       "      <th>chlorides</th>\n",
       "      <th>free_sulfur_dioxide</th>\n",
       "      <th>total_sulfur_dioxide</th>\n",
       "      <th>density</th>\n",
       "      <th>ph</th>\n",
       "      <th>sulphates</th>\n",
       "      <th>alcohol</th>\n",
       "      <th>quality</th>\n",
       "    </tr>\n",
       "  </thead>\n",
       "  <tbody>\n",
       "    <tr>\n",
       "      <th>0</th>\n",
       "      <td>7.4</td>\n",
       "      <td>0.700</td>\n",
       "      <td>1.00</td>\n",
       "      <td>1.9</td>\n",
       "      <td>0.076</td>\n",
       "      <td>11.0</td>\n",
       "      <td>34.0</td>\n",
       "      <td>0.99780</td>\n",
       "      <td>3.51</td>\n",
       "      <td>0.56</td>\n",
       "      <td>9.4</td>\n",
       "      <td>5</td>\n",
       "    </tr>\n",
       "    <tr>\n",
       "      <th>1</th>\n",
       "      <td>7.8</td>\n",
       "      <td>0.880</td>\n",
       "      <td>1.00</td>\n",
       "      <td>2.6</td>\n",
       "      <td>0.098</td>\n",
       "      <td>25.0</td>\n",
       "      <td>67.0</td>\n",
       "      <td>0.99680</td>\n",
       "      <td>3.20</td>\n",
       "      <td>0.68</td>\n",
       "      <td>9.8</td>\n",
       "      <td>5</td>\n",
       "    </tr>\n",
       "    <tr>\n",
       "      <th>2</th>\n",
       "      <td>7.8</td>\n",
       "      <td>0.760</td>\n",
       "      <td>0.04</td>\n",
       "      <td>2.3</td>\n",
       "      <td>0.092</td>\n",
       "      <td>15.0</td>\n",
       "      <td>54.0</td>\n",
       "      <td>0.99700</td>\n",
       "      <td>3.26</td>\n",
       "      <td>0.65</td>\n",
       "      <td>9.8</td>\n",
       "      <td>5</td>\n",
       "    </tr>\n",
       "    <tr>\n",
       "      <th>3</th>\n",
       "      <td>11.2</td>\n",
       "      <td>0.280</td>\n",
       "      <td>0.56</td>\n",
       "      <td>1.9</td>\n",
       "      <td>0.075</td>\n",
       "      <td>17.0</td>\n",
       "      <td>60.0</td>\n",
       "      <td>0.99800</td>\n",
       "      <td>3.16</td>\n",
       "      <td>0.58</td>\n",
       "      <td>9.8</td>\n",
       "      <td>6</td>\n",
       "    </tr>\n",
       "    <tr>\n",
       "      <th>4</th>\n",
       "      <td>7.4</td>\n",
       "      <td>0.700</td>\n",
       "      <td>1.00</td>\n",
       "      <td>1.9</td>\n",
       "      <td>0.076</td>\n",
       "      <td>11.0</td>\n",
       "      <td>34.0</td>\n",
       "      <td>0.99780</td>\n",
       "      <td>3.51</td>\n",
       "      <td>0.56</td>\n",
       "      <td>9.4</td>\n",
       "      <td>5</td>\n",
       "    </tr>\n",
       "    <tr>\n",
       "      <th>...</th>\n",
       "      <td>...</td>\n",
       "      <td>...</td>\n",
       "      <td>...</td>\n",
       "      <td>...</td>\n",
       "      <td>...</td>\n",
       "      <td>...</td>\n",
       "      <td>...</td>\n",
       "      <td>...</td>\n",
       "      <td>...</td>\n",
       "      <td>...</td>\n",
       "      <td>...</td>\n",
       "      <td>...</td>\n",
       "    </tr>\n",
       "    <tr>\n",
       "      <th>1594</th>\n",
       "      <td>6.2</td>\n",
       "      <td>0.600</td>\n",
       "      <td>0.08</td>\n",
       "      <td>2.0</td>\n",
       "      <td>0.090</td>\n",
       "      <td>32.0</td>\n",
       "      <td>44.0</td>\n",
       "      <td>0.99490</td>\n",
       "      <td>3.45</td>\n",
       "      <td>0.58</td>\n",
       "      <td>10.5</td>\n",
       "      <td>5</td>\n",
       "    </tr>\n",
       "    <tr>\n",
       "      <th>1595</th>\n",
       "      <td>5.9</td>\n",
       "      <td>0.550</td>\n",
       "      <td>0.10</td>\n",
       "      <td>2.2</td>\n",
       "      <td>0.062</td>\n",
       "      <td>39.0</td>\n",
       "      <td>51.0</td>\n",
       "      <td>0.99512</td>\n",
       "      <td>3.52</td>\n",
       "      <td>0.76</td>\n",
       "      <td>11.2</td>\n",
       "      <td>6</td>\n",
       "    </tr>\n",
       "    <tr>\n",
       "      <th>1596</th>\n",
       "      <td>6.3</td>\n",
       "      <td>0.510</td>\n",
       "      <td>0.13</td>\n",
       "      <td>2.3</td>\n",
       "      <td>0.076</td>\n",
       "      <td>29.0</td>\n",
       "      <td>40.0</td>\n",
       "      <td>0.99574</td>\n",
       "      <td>3.42</td>\n",
       "      <td>0.75</td>\n",
       "      <td>11.0</td>\n",
       "      <td>6</td>\n",
       "    </tr>\n",
       "    <tr>\n",
       "      <th>1597</th>\n",
       "      <td>5.9</td>\n",
       "      <td>0.645</td>\n",
       "      <td>0.12</td>\n",
       "      <td>2.0</td>\n",
       "      <td>0.075</td>\n",
       "      <td>32.0</td>\n",
       "      <td>44.0</td>\n",
       "      <td>0.99547</td>\n",
       "      <td>3.57</td>\n",
       "      <td>0.71</td>\n",
       "      <td>10.2</td>\n",
       "      <td>5</td>\n",
       "    </tr>\n",
       "    <tr>\n",
       "      <th>1598</th>\n",
       "      <td>6.0</td>\n",
       "      <td>0.310</td>\n",
       "      <td>0.47</td>\n",
       "      <td>3.6</td>\n",
       "      <td>0.067</td>\n",
       "      <td>18.0</td>\n",
       "      <td>42.0</td>\n",
       "      <td>0.99549</td>\n",
       "      <td>3.39</td>\n",
       "      <td>0.66</td>\n",
       "      <td>11.0</td>\n",
       "      <td>6</td>\n",
       "    </tr>\n",
       "  </tbody>\n",
       "</table>\n",
       "<p>1599 rows × 12 columns</p>\n",
       "</div>"
      ],
      "text/plain": [
       "      fixed_acidity  volatile_acidity  citric_acid  residual_sugar  chlorides  \\\n",
       "0               7.4             0.700         1.00             1.9      0.076   \n",
       "1               7.8             0.880         1.00             2.6      0.098   \n",
       "2               7.8             0.760         0.04             2.3      0.092   \n",
       "3              11.2             0.280         0.56             1.9      0.075   \n",
       "4               7.4             0.700         1.00             1.9      0.076   \n",
       "...             ...               ...          ...             ...        ...   \n",
       "1594            6.2             0.600         0.08             2.0      0.090   \n",
       "1595            5.9             0.550         0.10             2.2      0.062   \n",
       "1596            6.3             0.510         0.13             2.3      0.076   \n",
       "1597            5.9             0.645         0.12             2.0      0.075   \n",
       "1598            6.0             0.310         0.47             3.6      0.067   \n",
       "\n",
       "      free_sulfur_dioxide  total_sulfur_dioxide  density    ph  sulphates  \\\n",
       "0                    11.0                  34.0  0.99780  3.51       0.56   \n",
       "1                    25.0                  67.0  0.99680  3.20       0.68   \n",
       "2                    15.0                  54.0  0.99700  3.26       0.65   \n",
       "3                    17.0                  60.0  0.99800  3.16       0.58   \n",
       "4                    11.0                  34.0  0.99780  3.51       0.56   \n",
       "...                   ...                   ...      ...   ...        ...   \n",
       "1594                 32.0                  44.0  0.99490  3.45       0.58   \n",
       "1595                 39.0                  51.0  0.99512  3.52       0.76   \n",
       "1596                 29.0                  40.0  0.99574  3.42       0.75   \n",
       "1597                 32.0                  44.0  0.99547  3.57       0.71   \n",
       "1598                 18.0                  42.0  0.99549  3.39       0.66   \n",
       "\n",
       "      alcohol  quality  \n",
       "0         9.4        5  \n",
       "1         9.8        5  \n",
       "2         9.8        5  \n",
       "3         9.8        6  \n",
       "4         9.4        5  \n",
       "...       ...      ...  \n",
       "1594     10.5        5  \n",
       "1595     11.2        6  \n",
       "1596     11.0        6  \n",
       "1597     10.2        5  \n",
       "1598     11.0        6  \n",
       "\n",
       "[1599 rows x 12 columns]"
      ]
     },
     "execution_count": 131,
     "metadata": {},
     "output_type": "execute_result"
    }
   ],
   "source": [
    "df_pd = df.to_pandas()\n",
    "df_pd"
   ]
  },
  {
   "cell_type": "code",
   "execution_count": 132,
   "metadata": {},
   "outputs": [
    {
     "name": "stdout",
     "output_type": "stream",
     "text": [
      "<class 'pandas.core.frame.DataFrame'>\n",
      "<class 'polars.dataframe.frame.DataFrame'>\n"
     ]
    }
   ],
   "source": [
    "print(type(df_pd))\n",
    "print(type(df))"
   ]
  },
  {
   "cell_type": "markdown",
   "metadata": {},
   "source": [
    "## メモリ削減\n",
    "メモリの削減はpandasに変換してから行います。"
   ]
  },
  {
   "cell_type": "code",
   "execution_count": 133,
   "metadata": {},
   "outputs": [],
   "source": [
    "import numpy as np\n",
    "\n",
    "\n",
    "def reduce(df):\n",
    "    start_mem = df.memory_usage().sum() / 1024**2\n",
    "    print(\"befor:{:.2f}MB\".format(start_mem))\n",
    "\n",
    "    for col in df.columns:\n",
    "        col_type = df[col].dtype\n",
    "\n",
    "        if col_type != object:\n",
    "            c_min = df[col].min()\n",
    "            c_max = df[col].max()\n",
    "            if str(col_type)[:3] == \"int\":\n",
    "                if c_min > np.iinfo(np.int8).min and c_max < np.iinfo(np.int8).max:\n",
    "                    df[col] = df[col].astype(np.int8)\n",
    "                elif c_min > np.iinfo(np.int8).min and c_max < np.iinfo(np.int16).max:\n",
    "                    df[col] = df[col].astype(np.int16)\n",
    "                elif c_min > np.iinfo(np.int8).min and c_max < np.iinfo(np.int32).max:\n",
    "                    df[col] = df[col].astype(np.int32)\n",
    "                elif c_min > np.iinfo(np.int8).min and c_max < np.iinfo(np.int64).max:\n",
    "                    df[col] = df[col].astype(np.int64)\n",
    "            else:\n",
    "                if (\n",
    "                    c_min > np.finfo(np.float16).min\n",
    "                    and c_max < np.finfo(np.float16).max\n",
    "                ):\n",
    "                    df[col] = df[col].astype(np.float16)\n",
    "                elif (\n",
    "                    c_min > np.finfo(np.float32).min\n",
    "                    and c_max < np.finfo(np.float32).max\n",
    "                ):\n",
    "                    df[col] = df[col].astype(np.float32)\n",
    "                else:\n",
    "                    df[col] = df[col].astype(np.float64)\n",
    "\n",
    "        else:\n",
    "            pass\n",
    "\n",
    "    end_mem = df.memory_usage().sum() / 1024**2\n",
    "    print(\"after:{:.2f}MB\".format(end_mem))\n",
    "    print(\"削減率 {:.1f}%\".format(100 * (start_mem - end_mem) / start_mem))\n",
    "\n",
    "    return df"
   ]
  },
  {
   "cell_type": "code",
   "execution_count": 134,
   "metadata": {},
   "outputs": [
    {
     "name": "stdout",
     "output_type": "stream",
     "text": [
      "befor:0.15MB\n",
      "after:0.04MB\n",
      "削減率 76.0%\n"
     ]
    }
   ],
   "source": [
    "df_pd = reduce(df_pd)"
   ]
  },
  {
   "cell_type": "markdown",
   "metadata": {},
   "source": [
    "# Thank you for reading!"
   ]
  }
 ],
 "metadata": {
  "kernelspec": {
   "display_name": "venv",
   "language": "python",
   "name": "python3"
  },
  "language_info": {
   "codemirror_mode": {
    "name": "ipython",
    "version": 3
   },
   "file_extension": ".py",
   "mimetype": "text/x-python",
   "name": "python",
   "nbconvert_exporter": "python",
   "pygments_lexer": "ipython3",
   "version": "3.11.8"
  }
 },
 "nbformat": 4,
 "nbformat_minor": 2
}
